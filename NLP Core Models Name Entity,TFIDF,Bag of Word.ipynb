{
 "cells": [
  {
   "cell_type": "markdown",
   "metadata": {},
   "source": [
    "# All NLP Core Models"
   ]
  },
  {
   "cell_type": "code",
   "execution_count": 2,
   "metadata": {},
   "outputs": [],
   "source": [
    "import nltk"
   ]
  },
  {
   "cell_type": "markdown",
   "metadata": {},
   "source": [
    "### Name Entity "
   ]
  },
  {
   "cell_type": "code",
   "execution_count": 3,
   "metadata": {},
   "outputs": [],
   "source": [
    "paragraph=\"\"\"India (Hindi: Bhārat), officially the Republic of India (Hindi: Bhārat Gaṇarājya),[20] is a country in South Asia. It is the seventh-largest country by area, the second-most populous country, and the most populous democracy in the world. Bounded by the Indian Ocean on the south, the Arabian Sea on the southwest, and the Bay of Bengal on the southeast, it shares land borders with Pakistan to the west;[e] China, Nepal, and Bhutan to the north; and Bangladesh and Myanmar to the east. In the Indian Ocean, India is in the vicinity of Sri Lanka and the Maldives; its Andaman and Nicobar Islands share a maritime border with Thailand and Indonesia.\n",
    "\n",
    "Modern humans arrived on the Indian subcontinent from Africa no later than 55,000 years ago.\"\"\""
   ]
  },
  {
   "cell_type": "code",
   "execution_count": 4,
   "metadata": {},
   "outputs": [],
   "source": [
    "import re\n",
    "paragraph=re.sub(r\"\\(\",\"\",paragraph)\n",
    "paragraph=re.sub(r\"\\)\",\"\",paragraph)\n"
   ]
  },
  {
   "cell_type": "code",
   "execution_count": 5,
   "metadata": {},
   "outputs": [],
   "source": [
    "word=nltk.word_tokenize(paragraph)"
   ]
  },
  {
   "cell_type": "code",
   "execution_count": 6,
   "metadata": {},
   "outputs": [],
   "source": [
    "word_tag=nltk.pos_tag(word)"
   ]
  },
  {
   "cell_type": "code",
   "execution_count": 7,
   "metadata": {},
   "outputs": [],
   "source": [
    "#word_tag\n",
    "word_list_tag=[]"
   ]
  },
  {
   "cell_type": "code",
   "execution_count": 8,
   "metadata": {},
   "outputs": [],
   "source": [
    "for wd in word_tag:\n",
    "#    print(wd)\n",
    "     word_list_tag.append(wd[0]+\"_\"+wd[1])"
   ]
  },
  {
   "cell_type": "code",
   "execution_count": 9,
   "metadata": {},
   "outputs": [],
   "source": [
    "word_chunck=nltk.ne_chunk(word_tag)"
   ]
  },
  {
   "cell_type": "code",
   "execution_count": 10,
   "metadata": {},
   "outputs": [
    {
     "data": {
      "text/plain": [
       "nltk.tree.Tree"
      ]
     },
     "execution_count": 10,
     "metadata": {},
     "output_type": "execute_result"
    }
   ],
   "source": [
    "type(word_chunck)"
   ]
  },
  {
   "cell_type": "code",
   "execution_count": 11,
   "metadata": {},
   "outputs": [],
   "source": [
    "\n",
    "#word_chunck.draw()\n"
   ]
  },
  {
   "cell_type": "code",
   "execution_count": 12,
   "metadata": {},
   "outputs": [
    {
     "data": {
      "text/plain": [
       "\" to draw inside ---------------- jupyter\\nimport os\\nfrom IPython.display import Image, display\\nfrom nltk.draw import TreeWidget\\nfrom nltk.draw.util import CanvasFrame\\n\\ndef jupyter_draw_nltk_tree(tree):\\n    cf = CanvasFrame()\\n    tc = TreeWidget(cf.canvas(), tree)\\n    tc['node_font'] = 'arial 13 bold'\\n    tc['leaf_font'] = 'arial 14'\\n    tc['node_color'] = '#005990'\\n    tc['leaf_color'] = '#3F8F57'\\n    tc['line_color'] = '#175252'\\n    cf.add_widget(tc, 10, 10)\\n    cf.print_to_file('tmp_tree_output.ps')\\n    cf.destroy()\\n    os.system('convert tmp_tree_output.ps tmp_tree_output.png')\\n    display(Image(filename='tmp_tree_output.png'))\\n    os.system('rm tmp_tree_output.ps tmp_tree_output.png')\\n\""
      ]
     },
     "execution_count": 12,
     "metadata": {},
     "output_type": "execute_result"
    }
   ],
   "source": [
    "''' to draw inside ---------------- jupyter\n",
    "import os\n",
    "from IPython.display import Image, display\n",
    "from nltk.draw import TreeWidget\n",
    "from nltk.draw.util import CanvasFrame\n",
    "\n",
    "def jupyter_draw_nltk_tree(tree):\n",
    "    cf = CanvasFrame()\n",
    "    tc = TreeWidget(cf.canvas(), tree)\n",
    "    tc['node_font'] = 'arial 13 bold'\n",
    "    tc['leaf_font'] = 'arial 14'\n",
    "    tc['node_color'] = '#005990'\n",
    "    tc['leaf_color'] = '#3F8F57'\n",
    "    tc['line_color'] = '#175252'\n",
    "    cf.add_widget(tc, 10, 10)\n",
    "    cf.print_to_file('tmp_tree_output.ps')\n",
    "    cf.destroy()\n",
    "    os.system('convert tmp_tree_output.ps tmp_tree_output.png')\n",
    "    display(Image(filename='tmp_tree_output.png'))\n",
    "    os.system('rm tmp_tree_output.ps tmp_tree_output.png')\n",
    "'''"
   ]
  },
  {
   "cell_type": "code",
   "execution_count": 13,
   "metadata": {},
   "outputs": [],
   "source": [
    "#word_list_tag\n",
    "#[word_list_tag.append(wd[0]+\"_\"+wd[1]) for wd in word_tag]"
   ]
  },
  {
   "cell_type": "code",
   "execution_count": 14,
   "metadata": {},
   "outputs": [],
   "source": [
    "#listW=[]\n",
    "#[listW.append(wd[0]+\"_\"+wd[1]) for wd in word_tag]"
   ]
  },
  {
   "cell_type": "markdown",
   "metadata": {},
   "source": [
    "## Bag of Words\n"
   ]
  },
  {
   "cell_type": "code",
   "execution_count": 15,
   "metadata": {},
   "outputs": [
    {
     "data": {
      "text/plain": [
       "'India Hindi: Bhārat, officially the Republic of India Hindi: Bhārat Gaṇarājya,[20] is a country in South Asia. It is the seventh-largest country by area, the second-most populous country, and the most populous democracy in the world. Bounded by the Indian Ocean on the south, the Arabian Sea on the southwest, and the Bay of Bengal on the southeast, it shares land borders with Pakistan to the west;[e] China, Nepal, and Bhutan to the north; and Bangladesh and Myanmar to the east. In the Indian Ocean, India is in the vicinity of Sri Lanka and the Maldives; its Andaman and Nicobar Islands share a maritime border with Thailand and Indonesia.\\n\\nModern humans arrived on the Indian subcontinent from Africa no later than 55,000 years ago.'"
      ]
     },
     "execution_count": 15,
     "metadata": {},
     "output_type": "execute_result"
    }
   ],
   "source": [
    "paragraph"
   ]
  },
  {
   "cell_type": "code",
   "execution_count": 16,
   "metadata": {},
   "outputs": [],
   "source": [
    "paragraph=paragraph+\"\"\"The world is the planet Earth and all life on it, including human civilization.[1] In a philosophical context, the \"world\" is the whole of the physical Universe, or an ontological world (the \"world\" of an individual). In a theological context, the world is the material or the profane sphere, as opposed to the celestial, spiritual, transcendent or sacred spheres. \"End of the world\" scenarios refer to the end of human history, often in religious contexts.\n",
    "\n",
    "The history of the world is commonly understood as spanning the major geopolitical developments of about five millennia, from the first civilizations to the present. In terms such as world religion, world language, world government, and world war, the term world suggests an international or intercontinental scope without necessarily implying participation of every part of the world.\n",
    "\n",
    "The world population is the sum of all human populations at any time; similarly, the world economy is the sum of the economies of all societies or countries, especially in the context of globalization. Terms such as \"world championship\", \"gross world product\", and \"world flags\" imply the sum or combination of all sovereign states.\"\"\""
   ]
  },
  {
   "cell_type": "code",
   "execution_count": 17,
   "metadata": {},
   "outputs": [
    {
     "data": {
      "text/plain": [
       "'India Hindi: Bhārat, officially the Republic of India Hindi: Bhārat Gaṇarājya,[20] is a country in South Asia. It is the seventh-largest country by area, the second-most populous country, and the most populous democracy in the world. Bounded by the Indian Ocean on the south, the Arabian Sea on the southwest, and the Bay of Bengal on the southeast, it shares land borders with Pakistan to the west;[e] China, Nepal, and Bhutan to the north; and Bangladesh and Myanmar to the east. In the Indian Ocean, India is in the vicinity of Sri Lanka and the Maldives; its Andaman and Nicobar Islands share a maritime border with Thailand and Indonesia.\\n\\nModern humans arrived on the Indian subcontinent from Africa no later than 55,000 years ago.The world is the planet Earth and all life on it, including human civilization.[1] In a philosophical context, the \"world\" is the whole of the physical Universe, or an ontological world (the \"world\" of an individual). In a theological context, the world is the material or the profane sphere, as opposed to the celestial, spiritual, transcendent or sacred spheres. \"End of the world\" scenarios refer to the end of human history, often in religious contexts.\\n\\nThe history of the world is commonly understood as spanning the major geopolitical developments of about five millennia, from the first civilizations to the present. In terms such as world religion, world language, world government, and world war, the term world suggests an international or intercontinental scope without necessarily implying participation of every part of the world.\\n\\nThe world population is the sum of all human populations at any time; similarly, the world economy is the sum of the economies of all societies or countries, especially in the context of globalization. Terms such as \"world championship\", \"gross world product\", and \"world flags\" imply the sum or combination of all sovereign states.'"
      ]
     },
     "execution_count": 17,
     "metadata": {},
     "output_type": "execute_result"
    }
   ],
   "source": [
    "paragraph\n"
   ]
  },
  {
   "cell_type": "code",
   "execution_count": 18,
   "metadata": {},
   "outputs": [],
   "source": [
    "import re\n",
    "para_sent_token=nltk.sent_tokenize(paragraph)\n",
    "for i in range(len(para_sent_token)):\n",
    "    para_sent_token[i]=para_sent_token[i].lower()\n",
    "    para_sent_token[i]=re.sub(r\"\\W\",\" \",para_sent_token[i])#non words to space\n",
    "    para_sent_token[i]=re.sub(r\"\\s+\",\" \",para_sent_token[i])#removing extra space"
   ]
  },
  {
   "cell_type": "code",
   "execution_count": 19,
   "metadata": {},
   "outputs": [
    {
     "data": {
      "text/plain": [
       "['india hindi bhārat officially the republic of india hindi bhārat gaṇarājya 20 is a country in south asia ',\n",
       " 'it is the seventh largest country by area the second most populous country and the most populous democracy in the world ',\n",
       " 'bounded by the indian ocean on the south the arabian sea on the southwest and the bay of bengal on the southeast it shares land borders with pakistan to the west e china nepal and bhutan to the north and bangladesh and myanmar to the east ',\n",
       " 'in the indian ocean india is in the vicinity of sri lanka and the maldives its andaman and nicobar islands share a maritime border with thailand and indonesia ',\n",
       " 'modern humans arrived on the indian subcontinent from africa no later than 55 000 years ago the world is the planet earth and all life on it including human civilization ',\n",
       " ' 1 in a philosophical context the world is the whole of the physical universe or an ontological world the world of an individual ',\n",
       " 'in a theological context the world is the material or the profane sphere as opposed to the celestial spiritual transcendent or sacred spheres ',\n",
       " ' end of the world scenarios refer to the end of human history often in religious contexts ',\n",
       " 'the history of the world is commonly understood as spanning the major geopolitical developments of about five millennia from the first civilizations to the present ',\n",
       " 'in terms such as world religion world language world government and world war the term world suggests an international or intercontinental scope without necessarily implying participation of every part of the world ',\n",
       " 'the world population is the sum of all human populations at any time similarly the world economy is the sum of the economies of all societies or countries especially in the context of globalization ',\n",
       " 'terms such as world championship gross world product and world flags imply the sum or combination of all sovereign states ']"
      ]
     },
     "execution_count": 19,
     "metadata": {},
     "output_type": "execute_result"
    }
   ],
   "source": [
    "para_sent_token"
   ]
  },
  {
   "cell_type": "markdown",
   "metadata": {},
   "source": [
    "#### Creating Histogram\n"
   ]
  },
  {
   "cell_type": "code",
   "execution_count": 20,
   "metadata": {},
   "outputs": [],
   "source": [
    "word2count={}\n",
    "for sent in para_sent_token:\n",
    "    for word in nltk.word_tokenize(sent):\n",
    "        if word in word2count.keys():\n",
    "            word2count[word]+=1\n",
    "        else:\n",
    "            word2count[word]=1\n",
    "        "
   ]
  },
  {
   "cell_type": "code",
   "execution_count": 21,
   "metadata": {},
   "outputs": [
    {
     "data": {
      "text/plain": [
       "162"
      ]
     },
     "execution_count": 21,
     "metadata": {},
     "output_type": "execute_result"
    }
   ],
   "source": [
    "len(word2count)"
   ]
  },
  {
   "cell_type": "code",
   "execution_count": 22,
   "metadata": {},
   "outputs": [],
   "source": [
    "import heapq"
   ]
  },
  {
   "cell_type": "code",
   "execution_count": null,
   "metadata": {},
   "outputs": [],
   "source": [
    "    "
   ]
  },
  {
   "cell_type": "code",
   "execution_count": 23,
   "metadata": {},
   "outputs": [],
   "source": [
    "word2count_100=heapq.nlargest(100,word2count,key=word2count.get)"
   ]
  },
  {
   "cell_type": "code",
   "execution_count": 24,
   "metadata": {},
   "outputs": [
    {
     "data": {
      "text/plain": [
       "list"
      ]
     },
     "execution_count": 24,
     "metadata": {},
     "output_type": "execute_result"
    }
   ],
   "source": [
    "type(word2count_100)"
   ]
  },
  {
   "cell_type": "code",
   "execution_count": 25,
   "metadata": {},
   "outputs": [],
   "source": [
    "bag_of_words=[]\n",
    "for sent in para_sent_token:\n",
    "    temp=[]\n",
    "    for word in word2count_100:\n",
    "        if word in nltk.word_tokenize(sent):\n",
    "            temp.append(1)\n",
    "        else:\n",
    "            temp.append(0)\n",
    "    bag_of_words.append(temp)\n",
    "            "
   ]
  },
  {
   "cell_type": "code",
   "execution_count": 26,
   "metadata": {},
   "outputs": [
    {
     "name": "stdout",
     "output_type": "stream",
     "text": [
      "[1, 0, 1, 0, 1, 1, 0, 0, 0, 1, 0, 0, 1, 1, 0, 0, 0, 0, 0, 0, 1, 1, 1, 0, 0, 0, 0, 0, 0, 0, 0, 0, 0, 1, 1, 1, 1, 1, 0, 0, 0, 0, 0, 0, 0, 0, 0, 0, 0, 0, 0, 0, 0, 0, 0, 0, 0, 0, 0, 0, 0, 0, 0, 0, 0, 0, 0, 0, 0, 0, 0, 0, 0, 0, 0, 0, 0, 0, 0, 0, 0, 0, 0, 0, 0, 0, 0, 0, 0, 0, 0, 0, 0, 0, 0, 0, 0, 0, 0, 0]\n"
     ]
    }
   ],
   "source": [
    "#print(bag_of_words)\n",
    "print(bag_of_words[0])"
   ]
  },
  {
   "cell_type": "code",
   "execution_count": 27,
   "metadata": {},
   "outputs": [
    {
     "data": {
      "text/plain": [
       "100"
      ]
     },
     "execution_count": 27,
     "metadata": {},
     "output_type": "execute_result"
    }
   ],
   "source": [
    "len(bag_of_words[0])"
   ]
  },
  {
   "cell_type": "code",
   "execution_count": 28,
   "metadata": {},
   "outputs": [],
   "source": [
    "#making 2d array\n",
    "import numpy as np"
   ]
  },
  {
   "cell_type": "code",
   "execution_count": 29,
   "metadata": {},
   "outputs": [],
   "source": [
    "bag_of_words_2d=np.asarray(bag_of_words)"
   ]
  },
  {
   "cell_type": "code",
   "execution_count": 30,
   "metadata": {},
   "outputs": [
    {
     "data": {
      "text/plain": [
       "(12, 100)"
      ]
     },
     "execution_count": 30,
     "metadata": {},
     "output_type": "execute_result"
    }
   ],
   "source": [
    "bag_of_words_2d.shape"
   ]
  },
  {
   "cell_type": "code",
   "execution_count": 31,
   "metadata": {},
   "outputs": [
    {
     "name": "stdout",
     "output_type": "stream",
     "text": [
      "[[1 0 1 ... 0 0 0]\n",
      " [1 1 0 ... 0 0 0]\n",
      " [1 0 1 ... 0 0 0]\n",
      " ...\n",
      " [1 1 1 ... 0 0 0]\n",
      " [1 1 1 ... 0 0 0]\n",
      " [1 1 1 ... 0 0 0]]\n"
     ]
    }
   ],
   "source": [
    "print(bag_of_words_2d)"
   ]
  },
  {
   "cell_type": "code",
   "execution_count": 32,
   "metadata": {},
   "outputs": [
    {
     "data": {
      "text/plain": [
       "12"
      ]
     },
     "execution_count": 32,
     "metadata": {},
     "output_type": "execute_result"
    }
   ],
   "source": [
    "len(para_sent_token)"
   ]
  },
  {
   "cell_type": "markdown",
   "metadata": {},
   "source": [
    "# TF_IDF Model \n",
    "### Term Frequency * Inverse Document Frequency "
   ]
  },
  {
   "cell_type": "code",
   "execution_count": 33,
   "metadata": {},
   "outputs": [
    {
     "data": {
      "text/plain": [
       "'India Hindi: Bhārat, officially the Republic of India Hindi: Bhārat Gaṇarājya,[20] is a country in South Asia. It is the seventh-largest country by area, the second-most populous country, and the most populous democracy in the world. Bounded by the Indian Ocean on the south, the Arabian Sea on the southwest, and the Bay of Bengal on the southeast, it shares land borders with Pakistan to the west;[e] China, Nepal, and Bhutan to the north; and Bangladesh and Myanmar to the east. In the Indian Ocean, India is in the vicinity of Sri Lanka and the Maldives; its Andaman and Nicobar Islands share a maritime border with Thailand and Indonesia.\\n\\nModern humans arrived on the Indian subcontinent from Africa no later than 55,000 years ago.The world is the planet Earth and all life on it, including human civilization.[1] In a philosophical context, the \"world\" is the whole of the physical Universe, or an ontological world (the \"world\" of an individual). In a theological context, the world is the material or the profane sphere, as opposed to the celestial, spiritual, transcendent or sacred spheres. \"End of the world\" scenarios refer to the end of human history, often in religious contexts.\\n\\nThe history of the world is commonly understood as spanning the major geopolitical developments of about five millennia, from the first civilizations to the present. In terms such as world religion, world language, world government, and world war, the term world suggests an international or intercontinental scope without necessarily implying participation of every part of the world.\\n\\nThe world population is the sum of all human populations at any time; similarly, the world economy is the sum of the economies of all societies or countries, especially in the context of globalization. Terms such as \"world championship\", \"gross world product\", and \"world flags\" imply the sum or combination of all sovereign states.'"
      ]
     },
     "execution_count": 33,
     "metadata": {},
     "output_type": "execute_result"
    }
   ],
   "source": [
    "paragraph"
   ]
  },
  {
   "cell_type": "markdown",
   "metadata": {},
   "source": [
    "### Formula\n",
    "tf=word occour number of times / total number of words in sentence or document\n",
    "\n",
    "idf= log(total number of document or sentence ) /number of document or sentence cantaining the word"
   ]
  },
  {
   "cell_type": "code",
   "execution_count": 34,
   "metadata": {},
   "outputs": [],
   "source": [
    "# IDF\n",
    "doc_total_num=len(para_sent_token)\n",
    "word2doc={}\n",
    "\n",
    "for word in word2count_100:\n",
    "    word2doc_count=0\n",
    "    for sent in para_sent_token:\n",
    "        if word in nltk.word_tokenize(sent):\n",
    "            word2doc_count+=1\n",
    "    word2doc[word]=np.log((doc_total_num/word2doc_count)+1)  "
   ]
  },
  {
   "cell_type": "code",
   "execution_count": 35,
   "metadata": {},
   "outputs": [
    {
     "name": "stdout",
     "output_type": "stream",
     "text": [
      "the   0.6931471805599453\n",
      "world   0.8472978603872034\n",
      "of   0.8472978603872034\n",
      "and   1.0986122886681098\n",
      "is   0.9162907318741551\n",
      "in   0.9162907318741551\n",
      "to   1.3862943611198906\n",
      "or   1.2237754316221157\n",
      "on   1.9459101490553132\n",
      "a   1.3862943611198906\n",
      "all   1.6094379124341003\n",
      "as   1.3862943611198906\n",
      "india   1.9459101490553132\n",
      "country   1.9459101490553132\n",
      "it   1.6094379124341003\n",
      "indian   1.6094379124341003\n",
      "\n",
      "\n",
      "Our IDF values\n"
     ]
    }
   ],
   "source": [
    "count=0\n",
    "for key in word2doc.keys():\n",
    "    print(key,\" \",word2doc[key])\n",
    "    count+=1\n",
    "    if count>15:\n",
    "        break\n",
    "print(\"\\n\\nOur IDF values\")"
   ]
  },
  {
   "cell_type": "code",
   "execution_count": 36,
   "metadata": {},
   "outputs": [],
   "source": [
    "# TF \n",
    "\n",
    "tf_words={}\n",
    "for word in word2count_100:\n",
    "    temp=[]\n",
    "    for sent in para_sent_token:\n",
    "        word_counter=0\n",
    "        for w in nltk.word_tokenize(sent):\n",
    "            if w==word:\n",
    "                word_counter+=1\n",
    "        tf=word_counter/len(nltk.word_tokenize(sent))\n",
    "        temp.append(tf)    \n",
    "    tf_words[word]=temp\n",
    "    \n",
    "            \n",
    "        "
   ]
  },
  {
   "cell_type": "code",
   "execution_count": 37,
   "metadata": {},
   "outputs": [],
   "source": [
    "#print(tf_words)"
   ]
  },
  {
   "cell_type": "code",
   "execution_count": 38,
   "metadata": {},
   "outputs": [
    {
     "data": {
      "text/plain": [
       "100"
      ]
     },
     "execution_count": 38,
     "metadata": {},
     "output_type": "execute_result"
    }
   ],
   "source": [
    "len(tf_words)"
   ]
  },
  {
   "cell_type": "markdown",
   "metadata": {},
   "source": [
    "### TFIDF Model"
   ]
  },
  {
   "cell_type": "code",
   "execution_count": 39,
   "metadata": {},
   "outputs": [],
   "source": [
    "tfidf_matrix=[]\n",
    "for word in tf_words.keys():\n",
    "    tf_idf=[]\n",
    "    for val in tf_words[word]:\n",
    "        score=val*word2doc[word]\n",
    "        tf_idf.append(score)\n",
    "    tfidf_matrix.append(tf_idf)\n",
    "        "
   ]
  },
  {
   "cell_type": "code",
   "execution_count": 40,
   "metadata": {},
   "outputs": [],
   "source": [
    "#word2doc"
   ]
  },
  {
   "cell_type": "code",
   "execution_count": null,
   "metadata": {},
   "outputs": [],
   "source": [
    "tfidf_model[\"the\"]"
   ]
  },
  {
   "cell_type": "code",
   "execution_count": null,
   "metadata": {},
   "outputs": [],
   "source": [
    "for k,value in tf_words.items():\n",
    "    print(k,value)\n",
    "    break"
   ]
  },
  {
   "cell_type": "code",
   "execution_count": null,
   "metadata": {},
   "outputs": [],
   "source": [
    "para_sent_token[0]"
   ]
  },
  {
   "cell_type": "code",
   "execution_count": null,
   "metadata": {},
   "outputs": [],
   "source": [
    "#tf_words"
   ]
  },
  {
   "cell_type": "code",
   "execution_count": null,
   "metadata": {},
   "outputs": [],
   "source": [
    "x=np.asarray(tfidf_matrix)\n",
    "print(x.shape)\n",
    "x"
   ]
  },
  {
   "cell_type": "code",
   "execution_count": null,
   "metadata": {},
   "outputs": [],
   "source": [
    "x[0]"
   ]
  },
  {
   "cell_type": "code",
   "execution_count": null,
   "metadata": {},
   "outputs": [],
   "source": [
    "y=np.transpose(x)\n",
    "print(y.shape)\n",
    "y"
   ]
  },
  {
   "cell_type": "code",
   "execution_count": null,
   "metadata": {},
   "outputs": [],
   "source": [
    "who"
   ]
  },
  {
   "cell_type": "markdown",
   "metadata": {},
   "source": [
    "### other models in part 2 file"
   ]
  },
  {
   "cell_type": "code",
   "execution_count": null,
   "metadata": {},
   "outputs": [],
   "source": []
  },
  {
   "cell_type": "code",
   "execution_count": null,
   "metadata": {},
   "outputs": [],
   "source": []
  },
  {
   "cell_type": "code",
   "execution_count": null,
   "metadata": {},
   "outputs": [],
   "source": []
  }
 ],
 "metadata": {
  "kernelspec": {
   "display_name": "Python 3",
   "language": "python",
   "name": "python3"
  },
  "language_info": {
   "codemirror_mode": {
    "name": "ipython",
    "version": 3
   },
   "file_extension": ".py",
   "mimetype": "text/x-python",
   "name": "python",
   "nbconvert_exporter": "python",
   "pygments_lexer": "ipython3",
   "version": "3.6.5"
  }
 },
 "nbformat": 4,
 "nbformat_minor": 2
}
